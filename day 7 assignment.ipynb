{
 "cells": [
  {
   "cell_type": "markdown",
   "metadata": {},
   "source": [
    "__Write a program to copy the contents of one file to another using a for loop. (Don’t use built-in copy\n",
    "function)__"
   ]
  },
  {
   "cell_type": "code",
   "execution_count": 6,
   "metadata": {},
   "outputs": [
    {
     "name": "stdout",
     "output_type": "stream",
     "text": [
      "i am lets upgrade student\n"
     ]
    },
    {
     "data": {
      "text/plain": [
       "'i am lets upgrade student'"
      ]
     },
     "execution_count": 6,
     "metadata": {},
     "output_type": "execute_result"
    }
   ],
   "source": [
    "f = open(\"t.txt\",'w')\n",
    "f.write(input())\n",
    "f = open(\"t.txt\",'r')\n",
    "#print(f.read())\n",
    "f1 = open(\"t2.txt\",'w')\n",
    "for i in f:\n",
    "    f1.write(i)\n",
    "f1 = open(\"t2.txt\",'r')\n",
    "f1.read()    \n",
    "   \n",
    "    "
   ]
  },
  {
   "cell_type": "markdown",
   "metadata": {},
   "source": [
    "__Write a Python program to find maximum and minimum values in the dictionary. Do not use built-in min\n",
    "and max functions.__"
   ]
  },
  {
   "cell_type": "code",
   "execution_count": 4,
   "metadata": {},
   "outputs": [
    {
     "name": "stdout",
     "output_type": "stream",
     "text": [
      "Min: Mercury\n",
      "Max: Pluto\n"
     ]
    }
   ],
   "source": [
    "sol = {\"Uranus\":[2750, 3000, 2880], \"Mercury\":[46, 70, 57], \"Earth\":[147, 152, 150], \"Venus\":[107, 109, 108], \"Mars\":[205, 249, 228], \"Saturn\":[1350, 1510, 1430], \"Jupiter\":[741, 817, 779], \"Pluto\":[4440, 7380, 5910], \"Neptune\":[4450, 4550, 4500]}\n",
    "\n",
    "def distance(close=True):\n",
    "    closest = 999999 \n",
    "    farthest = 0\n",
    "    for name in sol:\n",
    "        for index in range (3) :\n",
    "            closefar = sol[name][index]\n",
    "            if close :\n",
    "                if closefar < closest :\n",
    "                    closefarname = name\n",
    "                    closest = closefar\n",
    "            else :\n",
    "                if closefar > farthest :\n",
    "                    closefarname = name\n",
    "                    farthest = closefar\n",
    "    return closefarname\n",
    "\n",
    "print(\"Min:\", distance(True))\n",
    "print(\"Max:\", distance(False))"
   ]
  }
 ],
 "metadata": {
  "kernelspec": {
   "display_name": "Python 3",
   "language": "python",
   "name": "python3"
  },
  "language_info": {
   "codemirror_mode": {
    "name": "ipython",
    "version": 3
   },
   "file_extension": ".py",
   "mimetype": "text/x-python",
   "name": "python",
   "nbconvert_exporter": "python",
   "pygments_lexer": "ipython3",
   "version": "3.7.6"
  }
 },
 "nbformat": 4,
 "nbformat_minor": 4
}
