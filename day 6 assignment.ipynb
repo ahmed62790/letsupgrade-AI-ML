{
 "cells": [
  {
   "cell_type": "markdown",
   "metadata": {},
   "source": [
    "__write a program to print the company name of a given email address. Both user names and company\n",
    "names are composed of letters only.__"
   ]
  },
  {
   "cell_type": "code",
   "execution_count": 28,
   "metadata": {},
   "outputs": [
    {
     "name": "stdout",
     "output_type": "stream",
     "text": [
      "ahmed@letsupgrade.com\n",
      "letsupgrade\n"
     ]
    }
   ],
   "source": [
    "import re\n",
    "email = input()\n",
    "print(re.findall(r'\\w+[.]', email)[0][:-1])"
   ]
  },
  {
   "cell_type": "markdown",
   "metadata": {},
   "source": [
    "__Write a program that accepts a comma-separated sequence of words as input and prints the words in a\n",
    "comma-separated sequence after sorting them alphabetically.__"
   ]
  },
  {
   "cell_type": "code",
   "execution_count": 1,
   "metadata": {},
   "outputs": [
    {
     "name": "stdout",
     "output_type": "stream",
     "text": [
      "Enter the list items :  hello bob big\n",
      "['hello', 'bob', 'big']\n",
      "['big', 'bob', 'hello']\n"
     ]
    }
   ],
   "source": [
    "lst2 = []\n",
    "lst2 = [item for item in input(\"Enter the list items : \").split()]\n",
    "print(lst2)\n",
    "x = sorted(lst2)\n",
    "print(x)\n"
   ]
  },
  {
   "cell_type": "markdown",
   "metadata": {},
   "source": [
    "__Create your own Jupyter Notebook for Sets.__"
   ]
  },
  {
   "cell_type": "code",
   "execution_count": 22,
   "metadata": {},
   "outputs": [
    {
     "name": "stdout",
     "output_type": "stream",
     "text": [
      "{'apple', 'banana', 'cherry'}\n",
      "apple\n",
      "banana\n",
      "cherry\n",
      "True\n",
      "{'orange', 'apple', 'banana', 'cherry'}\n",
      "{'orange', 'apple', 'cherry', 'banana', 'mango', 'grapes'}\n",
      "6\n",
      "{'orange', 'apple', 'cherry', 'mango', 'grapes'}\n",
      "{'orange', 'apple', 'cherry', 'grapes'}\n",
      "{'orange', 'apple', 'cherry', 'pineapple', 'grapes', 'guava'}\n",
      "None\n"
     ]
    }
   ],
   "source": [
    "#sets notebook\n",
    "set = {\"apple\", \"banana\", \"cherry\"}\n",
    "print(set)\n",
    "for x in set:\n",
    "    print(x)\n",
    "print(\"banana\" in set)\n",
    "set.add(\"orange\")\n",
    "print(set)\n",
    "set.update([\"orange\", \"mango\", \"grapes\"])\n",
    "print(set)\n",
    "print(len(set))\n",
    "set.remove(\"banana\")\n",
    "print(set)\n",
    "set.discard(\"mango\")\n",
    "print(set)\n",
    "set1 = {\"guava\",\"pineapple\"}\n",
    "print(set.union(set1))\n",
    "print(set.update(set1))"
   ]
  },
  {
   "cell_type": "markdown",
   "metadata": {},
   "source": [
    "__Given a list of n-1 numbers ranging from 1 to n, your task is to find the missing number. There are no\n",
    "duplicates.__"
   ]
  },
  {
   "cell_type": "code",
   "execution_count": 18,
   "metadata": {
    "scrolled": true
   },
   "outputs": [
    {
     "name": "stdout",
     "output_type": "stream",
     "text": [
      "[3, 5, 8]\n"
     ]
    }
   ],
   "source": [
    "def find_missing(lst): \n",
    "    return [x for x in range(lst[0], lst[-1]+1)  if x not in lst] \n",
    "  \n",
    "\n",
    "lst = [1, 2, 4, 6, 7, 9, 10] \n",
    "print(find_missing(lst)) "
   ]
  },
  {
   "cell_type": "markdown",
   "metadata": {},
   "source": [
    "__With a given list L, write a program to print this list L after removing all duplicate values with original order\n",
    "reserved.__"
   ]
  },
  {
   "cell_type": "code",
   "execution_count": 21,
   "metadata": {},
   "outputs": [
    {
     "name": "stdout",
     "output_type": "stream",
     "text": [
      "enter the valuea b b d c\n",
      "['a', 'b', 'c', 'd']\n"
     ]
    }
   ],
   "source": [
    "mylist = input(\"enter the value\").split()\n",
    "mylist = list(dict.fromkeys(mylist))\n",
    "x = sorted(mylist)\n",
    "print(x)\n"
   ]
  }
 ],
 "metadata": {
  "kernelspec": {
   "display_name": "Python 3",
   "language": "python",
   "name": "python3"
  },
  "language_info": {
   "codemirror_mode": {
    "name": "ipython",
    "version": 3
   },
   "file_extension": ".py",
   "mimetype": "text/x-python",
   "name": "python",
   "nbconvert_exporter": "python",
   "pygments_lexer": "ipython3",
   "version": "3.7.6"
  }
 },
 "nbformat": 4,
 "nbformat_minor": 4
}
