{
 "cells": [
  {
   "cell_type": "markdown",
   "metadata": {},
   "source": [
    "__Write a Python program to find the first 20 non-even prime natural numbers.__"
   ]
  },
  {
   "cell_type": "code",
   "execution_count": 29,
   "metadata": {},
   "outputs": [
    {
     "name": "stdout",
     "output_type": "stream",
     "text": [
      "3\n",
      "5\n",
      "7\n",
      "11\n",
      "13\n",
      "17\n",
      "19\n",
      "23\n",
      "29\n",
      "31\n",
      "37\n",
      "41\n",
      "43\n",
      "47\n",
      "53\n",
      "59\n",
      "61\n",
      "67\n",
      "71\n",
      "73\n",
      "79\n"
     ]
    }
   ],
   "source": [
    "for num in range(3, 81):\n",
    "   # all prime numbers are greater than 1\n",
    "   \n",
    "       for i in range(2, num):\n",
    "           if (num % i) == 0:\n",
    "               break\n",
    "       else:\n",
    "           print(num)"
   ]
  },
  {
   "cell_type": "markdown",
   "metadata": {},
   "source": [
    "__Write a Python program to implement 15 functions of string.__"
   ]
  },
  {
   "cell_type": "code",
   "execution_count": 39,
   "metadata": {},
   "outputs": [
    {
     "name": "stdout",
     "output_type": "stream",
     "text": [
      "letsupgrade is bestletsupgrade is bestletsupgrade is best\n",
      "Helloletsupgrade is best\n",
      "LETSUPGRADE IS BEST\n",
      "hello\n",
      "LETSUPGRADE IS BEST\n",
      "u\n",
      "H\n",
      "Letsupgrade is best\n",
      "True\n",
      "True\n",
      "Letsupgrade Is Best\n",
      "False\n",
      "5\n",
      "1 ene\n",
      "False\n"
     ]
    }
   ],
   "source": [
    "s1 = \"Hello\"\n",
    "s2 = \"letsupgrade is best\"\n",
    "print(s2*3)\n",
    "print(s1+s2)\n",
    "print(s2.swapcase())\n",
    "print(s1.lower())\n",
    "print(s2.upper())\n",
    "print(max(s2))\n",
    "print(min(s1))\n",
    "print(s2.capitalize())\n",
    "s3 = \"1234\"\n",
    "print(s3.isdigit())\n",
    "print(s1.isalpha())\n",
    "print(s2.title())\n",
    "s4 = \"1 one\"\n",
    "print(s4.isalnum())\n",
    "print(len(s4))\n",
    "print(s4.replace('o','e'))\n",
    "print(s3.startswith('a'))"
   ]
  },
  {
   "cell_type": "markdown",
   "metadata": {},
   "source": [
    "__Write a Python program to check if the given string is a Palindrome or Anagram or None of them. Display\n",
    "the message accordingly to the user.__"
   ]
  },
  {
   "cell_type": "code",
   "execution_count": 6,
   "metadata": {},
   "outputs": [
    {
     "name": "stdout",
     "output_type": "stream",
     "text": [
      "mam\n",
      "mam is palindrome\n"
     ]
    }
   ],
   "source": [
    " s = input() \n",
    "if s == s[::-1]:\n",
    "    print(s ,\"is palindrome\")\n",
    "elif(sorted(s) == sorted(s)):\n",
    "    print(s, \"is anagram\")\n",
    "else:\n",
    "    print(\"none of them\")"
   ]
  },
  {
   "cell_type": "markdown",
   "metadata": {},
   "source": [
    "__Write a Python's user-defined function that removes all the additional characters from the string and\n",
    "convert it finally to lower case using built-in lower(). eg: If the string is \"Dr. Darshan Ingle @AIML Trainer\",\n",
    "then the output be \"drdarshaningleaimltrainer\".__"
   ]
  },
  {
   "cell_type": "code",
   "execution_count": 26,
   "metadata": {},
   "outputs": [
    {
     "name": "stdout",
     "output_type": "stream",
     "text": [
      "HI @letsupgrade\n",
      "string without additional characters is: hi  letsupgrade\n"
     ]
    }
   ],
   "source": [
    "def remove(s):\n",
    "    char = [';', ':', '!', \"*\", \"@\"]\n",
    "    for i in char:\n",
    "        s = s.replace(i,\" \")\n",
    "        s = s.lower()\n",
    "    print(\"string without additional characters is:\",str(s))    \n",
    "remove(input())    "
   ]
  }
 ],
 "metadata": {
  "kernelspec": {
   "display_name": "Python 3",
   "language": "python",
   "name": "python3"
  },
  "language_info": {
   "codemirror_mode": {
    "name": "ipython",
    "version": 3
   },
   "file_extension": ".py",
   "mimetype": "text/x-python",
   "name": "python",
   "nbconvert_exporter": "python",
   "pygments_lexer": "ipython3",
   "version": "3.7.6"
  }
 },
 "nbformat": 4,
 "nbformat_minor": 4
}
